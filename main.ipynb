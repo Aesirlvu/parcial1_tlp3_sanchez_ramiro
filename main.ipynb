{
 "cells": [
  {
   "cell_type": "markdown",
   "id": "9fee5ee9",
   "metadata": {},
   "source": [
    "# Examen Parcial n°1 2da Parte - TLP3 - Python para Ciencia de Datos.\n"
   ]
  },
  {
   "cell_type": "markdown",
   "id": "999099d0",
   "metadata": {},
   "source": [
    "**A partir del datasets brindado, realizar los siguientes procedimientos:**\n",
    "\n",
    "* Importar datasets con Pandas.\n",
    "* Explorar los datos con los metodos correspondientes. \n",
    "* Limpieza de los datos (Normalización de datos).\n",
    "* Obtener estadisticas.\n",
    "* Mostrar los datos procesados con graficos utilizando la libreria Matplotlib.\n",
    "* Exportar el contenido a un archivo sqlite utilizando PANDAS.\n",
    "\n",
    "\n",
    "**Importante: Se debe documentar cada procedimiento realizado, siguiendo la siguiente estructura:**\n",
    "\n",
    "1. Celda de Markdown (Documentación)\n",
    "2. Código (Sin comentarios, se debe documentar lo sufiente solo en la celda de markdown).\n",
    "\n",
    "\n",
    "### Criterios de Evaluación:\n",
    "\n",
    "1. No esta permitido el uso de IAs durante el examen. (Desactivar Copilot o cualquier herramienta de IA para autocompletar codigo.)\n",
    "\n",
    "2. Se deben utilizar nombres de variables descriptivos y claros (Utilizar la nomeclatura correspondiente para los nombres de variables).\n",
    "\n",
    "3. Comentarios claros y concisos que expliquen el propósito de cada sección del código en una celda de markdown antes del código.\n",
    "\n",
    "4. Utilizar mensajes de commit descriptivos. (Puedes utilizar la extension CONVENTIONAL COMMIT de VS-CODE).\n",
    "\n",
    "5. Entrega en tiempo y forma (Parciales entregados fuera de hora o con commits pasados el horario de entrega quedará invalidado.)\n",
    "\n",
    "6. Todo el código desarrollado debe ser subido a un repositorio en GitHub (el nombre del repositorio de seguir la siguiente estructura: \n",
    "**parcial1_tlp3_nombre_apellido**).\n",
    "\n",
    "7. Para resolver las actividades se debe insertar casillas de codigo entre cada actividad del cuaderno de Jupyter.\n",
    "\n",
    "8. Deben trabajar con el datasets adjunto.\n",
    "\n",
    "9. Una vez finalizado el examen, los resultados deben quedar guardados debajo de cada celda (NO EJECUTAR LA OPCIÓN \"borrar todas las salidas\").\n",
    "\n",
    "**Importante:** Una vez finalizado el examen, marcar como completado en el classroom."
   ]
  },
  {
   "cell_type": "markdown",
   "id": "dd91f969",
   "metadata": {},
   "source": [
    "## Actividades:"
   ]
  },
  {
   "cell_type": "markdown",
   "id": "602ac6dd",
   "metadata": {},
   "source": [
    "### 1. Importación del Dataset con Pandas\n",
    "\n",
    "En esta sección, se debe utilizar la librería Pandas para cargar el archivo CSV que contiene los datos de VENTAS en un DataFrame."
   ]
  },
  {
   "cell_type": "code",
   "execution_count": 2,
   "id": "761956c0",
   "metadata": {},
   "outputs": [],
   "source": [
    "import pandas as pd\n",
    "import sqlite3\n",
    "import matplotlib.pyplot as plt"
   ]
  },
  {
   "cell_type": "code",
   "execution_count": 3,
   "id": "4eca0410",
   "metadata": {},
   "outputs": [],
   "source": [
    "df = pd.read_csv('ventas.csv')"
   ]
  },
  {
   "cell_type": "markdown",
   "id": "91e8c1c3",
   "metadata": {},
   "source": [
    "### 2. Exploración Inicial de los Datos\n",
    "\n",
    "A continuación, se deben emplear métodos de Pandas para obtener una visión general del dataset. \n",
    "- 2.1: Visualizar las primeras filas y ultimas.\n",
    "- 2.2: Obtener informacion del df con su metodo correspondiente.\n",
    "- 2.3: Hacer un conteo de valores nulos."
   ]
  },
  {
   "cell_type": "code",
   "execution_count": 4,
   "id": "23fc245a",
   "metadata": {},
   "outputs": [
    {
     "data": {
      "text/html": [
       "<div>\n",
       "<style scoped>\n",
       "    .dataframe tbody tr th:only-of-type {\n",
       "        vertical-align: middle;\n",
       "    }\n",
       "\n",
       "    .dataframe tbody tr th {\n",
       "        vertical-align: top;\n",
       "    }\n",
       "\n",
       "    .dataframe thead th {\n",
       "        text-align: right;\n",
       "    }\n",
       "</style>\n",
       "<table border=\"1\" class=\"dataframe\">\n",
       "  <thead>\n",
       "    <tr style=\"text-align: right;\">\n",
       "      <th></th>\n",
       "      <th>ID_Venta</th>\n",
       "      <th>Nombre_Cliente</th>\n",
       "      <th>Apellido_Cliente</th>\n",
       "      <th>Fecha</th>\n",
       "      <th>Producto</th>\n",
       "      <th>Cantidad</th>\n",
       "      <th>Precio_Unitario</th>\n",
       "      <th>Total_Venta</th>\n",
       "      <th>Metodo_Pago</th>\n",
       "      <th>Region</th>\n",
       "    </tr>\n",
       "  </thead>\n",
       "  <tbody>\n",
       "    <tr>\n",
       "      <th>0</th>\n",
       "      <td>1</td>\n",
       "      <td>Ana</td>\n",
       "      <td>García</td>\n",
       "      <td>01-05-2024</td>\n",
       "      <td>Laptop</td>\n",
       "      <td>1</td>\n",
       "      <td>1200.50</td>\n",
       "      <td>1200.50</td>\n",
       "      <td>Tarjeta de Crédito</td>\n",
       "      <td>Norte</td>\n",
       "    </tr>\n",
       "    <tr>\n",
       "      <th>1</th>\n",
       "      <td>2</td>\n",
       "      <td>Carlos</td>\n",
       "      <td>López</td>\n",
       "      <td>2024-01-08</td>\n",
       "      <td>Mouse Inalámbrico</td>\n",
       "      <td>2</td>\n",
       "      <td>25.75</td>\n",
       "      <td>51.50</td>\n",
       "      <td>Efectivo</td>\n",
       "      <td>Sur</td>\n",
       "    </tr>\n",
       "    <tr>\n",
       "      <th>2</th>\n",
       "      <td>3</td>\n",
       "      <td>sofía</td>\n",
       "      <td>martínez</td>\n",
       "      <td>2024-01-12</td>\n",
       "      <td>Teclado Mecánico</td>\n",
       "      <td>1</td>\n",
       "      <td>75.99</td>\n",
       "      <td>75.99</td>\n",
       "      <td>Transferencia Bancaria</td>\n",
       "      <td>Este</td>\n",
       "    </tr>\n",
       "    <tr>\n",
       "      <th>3</th>\n",
       "      <td>4</td>\n",
       "      <td>pedro</td>\n",
       "      <td>rodríguez</td>\n",
       "      <td>2024-01-15</td>\n",
       "      <td>Monitor 24 pulgadas</td>\n",
       "      <td>1</td>\n",
       "      <td>NaN</td>\n",
       "      <td>NaN</td>\n",
       "      <td>Tarjeta de Débito</td>\n",
       "      <td>Oeste</td>\n",
       "    </tr>\n",
       "    <tr>\n",
       "      <th>4</th>\n",
       "      <td>5</td>\n",
       "      <td>Laura</td>\n",
       "      <td>Sánchez</td>\n",
       "      <td>18-01-2024</td>\n",
       "      <td>Auriculares Bluetooth</td>\n",
       "      <td>1</td>\n",
       "      <td>99.95</td>\n",
       "      <td>99.95</td>\n",
       "      <td>Tarjeta de Crédito</td>\n",
       "      <td>Norte</td>\n",
       "    </tr>\n",
       "  </tbody>\n",
       "</table>\n",
       "</div>"
      ],
      "text/plain": [
       "   ID_Venta Nombre_Cliente Apellido_Cliente       Fecha  \\\n",
       "0         1            Ana           García  01-05-2024   \n",
       "1         2         Carlos            López  2024-01-08   \n",
       "2         3          sofía         martínez  2024-01-12   \n",
       "3         4          pedro        rodríguez  2024-01-15   \n",
       "4         5          Laura          Sánchez  18-01-2024   \n",
       "\n",
       "                Producto  Cantidad  Precio_Unitario  Total_Venta  \\\n",
       "0                 Laptop         1          1200.50      1200.50   \n",
       "1      Mouse Inalámbrico         2            25.75        51.50   \n",
       "2       Teclado Mecánico         1            75.99        75.99   \n",
       "3    Monitor 24 pulgadas         1              NaN          NaN   \n",
       "4  Auriculares Bluetooth         1            99.95        99.95   \n",
       "\n",
       "              Metodo_Pago Region  \n",
       "0      Tarjeta de Crédito  Norte  \n",
       "1                Efectivo    Sur  \n",
       "2  Transferencia Bancaria   Este  \n",
       "3       Tarjeta de Débito  Oeste  \n",
       "4      Tarjeta de Crédito  Norte  "
      ]
     },
     "execution_count": 4,
     "metadata": {},
     "output_type": "execute_result"
    }
   ],
   "source": [
    "df.head()"
   ]
  },
  {
   "cell_type": "code",
   "execution_count": 5,
   "id": "071ac215",
   "metadata": {},
   "outputs": [
    {
     "data": {
      "text/html": [
       "<div>\n",
       "<style scoped>\n",
       "    .dataframe tbody tr th:only-of-type {\n",
       "        vertical-align: middle;\n",
       "    }\n",
       "\n",
       "    .dataframe tbody tr th {\n",
       "        vertical-align: top;\n",
       "    }\n",
       "\n",
       "    .dataframe thead th {\n",
       "        text-align: right;\n",
       "    }\n",
       "</style>\n",
       "<table border=\"1\" class=\"dataframe\">\n",
       "  <thead>\n",
       "    <tr style=\"text-align: right;\">\n",
       "      <th></th>\n",
       "      <th>ID_Venta</th>\n",
       "      <th>Nombre_Cliente</th>\n",
       "      <th>Apellido_Cliente</th>\n",
       "      <th>Fecha</th>\n",
       "      <th>Producto</th>\n",
       "      <th>Cantidad</th>\n",
       "      <th>Precio_Unitario</th>\n",
       "      <th>Total_Venta</th>\n",
       "      <th>Metodo_Pago</th>\n",
       "      <th>Region</th>\n",
       "    </tr>\n",
       "  </thead>\n",
       "  <tbody>\n",
       "    <tr>\n",
       "      <th>100</th>\n",
       "      <td>101</td>\n",
       "      <td>Agustín</td>\n",
       "      <td>Torres</td>\n",
       "      <td>2024-10-08</td>\n",
       "      <td>Pen Drive 64GB</td>\n",
       "      <td>4</td>\n",
       "      <td>8.75</td>\n",
       "      <td>35.0</td>\n",
       "      <td>Tarjeta de Débito</td>\n",
       "      <td>Oeste</td>\n",
       "    </tr>\n",
       "    <tr>\n",
       "      <th>101</th>\n",
       "      <td>102</td>\n",
       "      <td>Camila</td>\n",
       "      <td>Vega</td>\n",
       "      <td>2024-10-11</td>\n",
       "      <td>Laptop Ligera</td>\n",
       "      <td>1</td>\n",
       "      <td>NaN</td>\n",
       "      <td>1180.0</td>\n",
       "      <td>Tarjeta de Crédito</td>\n",
       "      <td>Norte</td>\n",
       "    </tr>\n",
       "    <tr>\n",
       "      <th>102</th>\n",
       "      <td>103</td>\n",
       "      <td>Juan</td>\n",
       "      <td>Rojas</td>\n",
       "      <td>2024-10-15</td>\n",
       "      <td>NaN</td>\n",
       "      <td>1</td>\n",
       "      <td>48.99</td>\n",
       "      <td>NaN</td>\n",
       "      <td>Efectivo</td>\n",
       "      <td>Sur</td>\n",
       "    </tr>\n",
       "    <tr>\n",
       "      <th>103</th>\n",
       "      <td>104</td>\n",
       "      <td>Lucía</td>\n",
       "      <td>Silva</td>\n",
       "      <td>2024-10-18</td>\n",
       "      <td>Teclado Bluetooth</td>\n",
       "      <td>1</td>\n",
       "      <td>78.20</td>\n",
       "      <td>78.2</td>\n",
       "      <td>Transferencia Bancaria</td>\n",
       "      <td>Este</td>\n",
       "    </tr>\n",
       "    <tr>\n",
       "      <th>104</th>\n",
       "      <td>105</td>\n",
       "      <td>mateo</td>\n",
       "      <td>luna</td>\n",
       "      <td>2024-10-22</td>\n",
       "      <td>Monitor para Oficina</td>\n",
       "      <td>1</td>\n",
       "      <td>2.00</td>\n",
       "      <td>210.5</td>\n",
       "      <td>Tarjeta de Débito</td>\n",
       "      <td>Oeste</td>\n",
       "    </tr>\n",
       "  </tbody>\n",
       "</table>\n",
       "</div>"
      ],
      "text/plain": [
       "     ID_Venta Nombre_Cliente Apellido_Cliente       Fecha  \\\n",
       "100       101        Agustín           Torres  2024-10-08   \n",
       "101       102         Camila             Vega  2024-10-11   \n",
       "102       103           Juan            Rojas  2024-10-15   \n",
       "103       104          Lucía            Silva  2024-10-18   \n",
       "104       105          mateo             luna  2024-10-22   \n",
       "\n",
       "                 Producto  Cantidad  Precio_Unitario  Total_Venta  \\\n",
       "100        Pen Drive 64GB         4             8.75         35.0   \n",
       "101         Laptop Ligera         1              NaN       1180.0   \n",
       "102                   NaN         1            48.99          NaN   \n",
       "103     Teclado Bluetooth         1            78.20         78.2   \n",
       "104  Monitor para Oficina         1             2.00        210.5   \n",
       "\n",
       "                Metodo_Pago Region  \n",
       "100       Tarjeta de Débito  Oeste  \n",
       "101      Tarjeta de Crédito  Norte  \n",
       "102                Efectivo    Sur  \n",
       "103  Transferencia Bancaria   Este  \n",
       "104       Tarjeta de Débito  Oeste  "
      ]
     },
     "execution_count": 5,
     "metadata": {},
     "output_type": "execute_result"
    }
   ],
   "source": [
    "df.tail()"
   ]
  },
  {
   "cell_type": "code",
   "execution_count": 6,
   "id": "751703d3",
   "metadata": {},
   "outputs": [
    {
     "data": {
      "text/plain": [
       "<bound method DataFrame.info of      ID_Venta Nombre_Cliente Apellido_Cliente       Fecha  \\\n",
       "0           1            Ana           García  01-05-2024   \n",
       "1           2         Carlos            López  2024-01-08   \n",
       "2           3          sofía         martínez  2024-01-12   \n",
       "3           4          pedro        rodríguez  2024-01-15   \n",
       "4           5          Laura          Sánchez  18-01-2024   \n",
       "..        ...            ...              ...         ...   \n",
       "100       101        Agustín           Torres  2024-10-08   \n",
       "101       102         Camila             Vega  2024-10-11   \n",
       "102       103           Juan            Rojas  2024-10-15   \n",
       "103       104          Lucía            Silva  2024-10-18   \n",
       "104       105          mateo             luna  2024-10-22   \n",
       "\n",
       "                  Producto  Cantidad  Precio_Unitario  Total_Venta  \\\n",
       "0                   Laptop         1          1200.50      1200.50   \n",
       "1        Mouse Inalámbrico         2            25.75        51.50   \n",
       "2         Teclado Mecánico         1            75.99        75.99   \n",
       "3      Monitor 24 pulgadas         1              NaN          NaN   \n",
       "4    Auriculares Bluetooth         1            99.95        99.95   \n",
       "..                     ...       ...              ...          ...   \n",
       "100         Pen Drive 64GB         4             8.75        35.00   \n",
       "101          Laptop Ligera         1              NaN      1180.00   \n",
       "102                    NaN         1            48.99          NaN   \n",
       "103      Teclado Bluetooth         1            78.20        78.20   \n",
       "104   Monitor para Oficina         1             2.00       210.50   \n",
       "\n",
       "                Metodo_Pago Region  \n",
       "0        Tarjeta de Crédito  Norte  \n",
       "1                  Efectivo    Sur  \n",
       "2    Transferencia Bancaria   Este  \n",
       "3         Tarjeta de Débito  Oeste  \n",
       "4        Tarjeta de Crédito  Norte  \n",
       "..                      ...    ...  \n",
       "100       Tarjeta de Débito  Oeste  \n",
       "101      Tarjeta de Crédito  Norte  \n",
       "102                Efectivo    Sur  \n",
       "103  Transferencia Bancaria   Este  \n",
       "104       Tarjeta de Débito  Oeste  \n",
       "\n",
       "[105 rows x 10 columns]>"
      ]
     },
     "execution_count": 6,
     "metadata": {},
     "output_type": "execute_result"
    }
   ],
   "source": [
    "df.info"
   ]
  },
  {
   "cell_type": "code",
   "execution_count": 7,
   "id": "4abb66b9",
   "metadata": {},
   "outputs": [
    {
     "data": {
      "text/plain": [
       "ID_Venta              int64\n",
       "Nombre_Cliente       object\n",
       "Apellido_Cliente     object\n",
       "Fecha                object\n",
       "Producto             object\n",
       "Cantidad              int64\n",
       "Precio_Unitario     float64\n",
       "Total_Venta         float64\n",
       "Metodo_Pago          object\n",
       "Region               object\n",
       "dtype: object"
      ]
     },
     "execution_count": 7,
     "metadata": {},
     "output_type": "execute_result"
    }
   ],
   "source": [
    "df.dtypes"
   ]
  },
  {
   "cell_type": "code",
   "execution_count": 8,
   "id": "1e7a569a",
   "metadata": {},
   "outputs": [
    {
     "data": {
      "text/plain": [
       "ID_Venta             0\n",
       "Nombre_Cliente       0\n",
       "Apellido_Cliente     0\n",
       "Fecha                0\n",
       "Producto             4\n",
       "Cantidad             0\n",
       "Precio_Unitario     13\n",
       "Total_Venta         13\n",
       "Metodo_Pago         11\n",
       "Region               5\n",
       "dtype: int64"
      ]
     },
     "execution_count": 8,
     "metadata": {},
     "output_type": "execute_result"
    }
   ],
   "source": [
    "df.isnull().sum()"
   ]
  },
  {
   "cell_type": "code",
   "execution_count": 9,
   "id": "6b4061a7",
   "metadata": {},
   "outputs": [
    {
     "data": {
      "text/plain": [
       "array([1200.5 ,   25.75,   75.99,     nan,   99.95,   45.5 ,  150.75,\n",
       "        110.  ,   65.8 , 1150.  ,   28.99,  320.  ,   79.99,  220.5 ,\n",
       "         85.75,   75.  ,   35.  , 1350.75,   42.2 ,   55.99,  450.  ,\n",
       "         69.5 ,   80.  ,  120.  , 1800.99,   38.75,  110.5 ,   49.99,\n",
       "        150.  ,   25.  ,  130.2 ,   12.5 , 1550.  ,   15.99,   35.5 ,\n",
       "        180.  ,  120.75,   30.  ,   88.99,   18.2 ,  165.  ,  450.5 ,\n",
       "       1280.  ,   52.75,   92.99,  310.  ,   75.5 ,   60.2 ,  580.  ,\n",
       "         19.99,  240.  ,   20.  , 1420.5 ,   18.5 ,   85.  ,  155.99,\n",
       "         99.  ,  185.2 ,   70.  ,   95.5 ,  280.  , 1300.99,   32.5 ,\n",
       "         62.75,  520.  ,  180.5 ,  115.  ,  135.8 ,   15.  ,   55.  ,\n",
       "          8.75, 1180.  ,   48.99,   78.2 ,  210.5 ,    2.  ])"
      ]
     },
     "execution_count": 9,
     "metadata": {},
     "output_type": "execute_result"
    }
   ],
   "source": [
    "df['Precio_Unitario'].unique()"
   ]
  },
  {
   "cell_type": "code",
   "execution_count": 10,
   "id": "8550c8e6",
   "metadata": {},
   "outputs": [
    {
     "data": {
      "text/plain": [
       "array([1200.5 ,   51.5 ,   75.99,     nan,   99.95,   45.5 ,  150.75,\n",
       "        110.  ,   65.8 , 1150.  ,   28.99,  141.  ,  320.  ,  180.  ,\n",
       "         79.99,  220.5 ,   85.75,   75.  ,   70.  , 1350.75,   42.2 ,\n",
       "         55.99,  450.  ,   69.5 ,   29.95,   80.  ,  120.  , 1800.99,\n",
       "         38.75,  110.5 ,   99.98,  150.  ,  350.75,   25.  ,    0.  ,\n",
       "         37.5 ,   35.5 ,   30.  ,   88.99,   36.4 ,  165.  ,  450.5 ,\n",
       "       1280.  ,   52.75,   92.99,  310.  ,   75.5 ,   60.2 ,  580.  ,\n",
       "         19.99,  240.  , 1420.5 ,   37.  ,   85.  ,  390.75,  155.99,\n",
       "         99.  ,  185.2 ,   95.5 ,  280.  ,   32.5 ,   62.75,  520.  ,\n",
       "        180.5 ,  115.  ,  135.8 ,   55.  ,   35.  , 1180.  ,   48.99,\n",
       "         78.2 ,  210.5 , 1300.99])"
      ]
     },
     "execution_count": 10,
     "metadata": {},
     "output_type": "execute_result"
    }
   ],
   "source": [
    "df['Total_Venta'].unique()"
   ]
  },
  {
   "cell_type": "code",
   "execution_count": 11,
   "id": "3f47c7ae",
   "metadata": {},
   "outputs": [
    {
     "data": {
      "text/plain": [
       "array(['Norte', 'Sur', 'Este', 'Oeste', nan], dtype=object)"
      ]
     },
     "execution_count": 11,
     "metadata": {},
     "output_type": "execute_result"
    }
   ],
   "source": [
    "df['Region'].unique()"
   ]
  },
  {
   "cell_type": "code",
   "execution_count": 12,
   "id": "89a07ba9",
   "metadata": {},
   "outputs": [
    {
     "data": {
      "text/plain": [
       "array(['01-05-2024', '2024-01-08', '2024-01-12', '2024-01-15',\n",
       "       '18-01-2024', '2024-01-22', '2024-01-25', '2024-01-29',\n",
       "       '2024-02-02', '2024-02-05', '2024-02-09', '2024-02-12',\n",
       "       '2024-02-16', '2024-02-19', '2024-02-23', '2024-02-26',\n",
       "       '2024-03-01', '2024-03-05', '2024-03-08', '2024-03-12',\n",
       "       '2024-03-15', '19-03-2024', '2024-03-22', '2024-03-26',\n",
       "       '2024-03-29', '2024-04-02', '2024-04-05', '2024-04-09',\n",
       "       '2024-04-12', '2024-04-16', '2024-04-19', '2024-04-23',\n",
       "       '2024-04-26', '2024-04-30', '2024-05-03', '2024-05-07',\n",
       "       '2024-05-10', '2024-05-14', '2024-05-17', '2024-05-21',\n",
       "       '2024-05-24', '2024-05-28', '2024-05-31', '2024-06-04',\n",
       "       '2024-06-07', '2024-06-11', '2024-06-14', '2024-06-18',\n",
       "       '2024-06-21', '2024-06-25', '2024-06-28', '2024-07-02',\n",
       "       '2024-07-05', '2024-07-09', '2024-07-12', '2024-07-16',\n",
       "       '2024-07-19', '2024-07-23', '2024-07-26', '2024-07-30',\n",
       "       '2024-08-02', '2024-08-06', '2024-08-09', '2024-08-13',\n",
       "       '2024-08-16', '2024-08-20', '2024-08-23', '2024-08-27',\n",
       "       '2024-08-30', '2024-09-03', '2024-09-06', '2024-09-10',\n",
       "       '2024-09-13', '2024-09-17', '2024-09-20', '2024-09-24',\n",
       "       '2024-09-27', '2024-10-01', '2024-10-04', '2024-10-08',\n",
       "       '2024-10-11', '2024-10-15', '2024-10-18', '2024-10-22'],\n",
       "      dtype=object)"
      ]
     },
     "execution_count": 12,
     "metadata": {},
     "output_type": "execute_result"
    }
   ],
   "source": [
    "df['Fecha'].unique()"
   ]
  },
  {
   "cell_type": "code",
   "execution_count": 13,
   "id": "8f91c63c",
   "metadata": {},
   "outputs": [
    {
     "data": {
      "text/plain": [
       "array(['Tarjeta de Crédito', 'Efectivo', 'Transferencia Bancaria',\n",
       "       'Tarjeta de Débito', nan], dtype=object)"
      ]
     },
     "execution_count": 13,
     "metadata": {},
     "output_type": "execute_result"
    }
   ],
   "source": [
    "df['Metodo_Pago'].unique()"
   ]
  },
  {
   "cell_type": "markdown",
   "id": "ebacfb03",
   "metadata": {},
   "source": [
    "### 3. Limpieza y Normalización de los Datos\n",
    "\n",
    "- 3.1. Esta etapa crucial deben aplicar la corrección de diversos errores presentes en el dataset. Se abordarán los valores faltantes (Deben aplicar los metodos que ustedes crean convenientes **(Solo 1)**, por ejemplo: Eliminación de filas, cubrir valores con media, mediana, etc.)\n",
    "- 3.2: La columna Fecha deberan pasarla al tipo datetime con su metodo correspondiente.\n",
    "- 3.3: Corregir las mayusculas en el caso de Nombre y Apellido (Si es que corresponde.)\n"
   ]
  },
  {
   "cell_type": "code",
   "execution_count": 14,
   "id": "08199c53",
   "metadata": {},
   "outputs": [],
   "source": [
    "df = df.replace('', pd.NA)"
   ]
  },
  {
   "cell_type": "code",
   "execution_count": 15,
   "id": "34777de0",
   "metadata": {},
   "outputs": [],
   "source": [
    "mediana_precio_unitario = df['Precio_Unitario'].median()\n",
    "df['Precio_Unitario'] = df['Precio_Unitario'].fillna(mediana_precio_unitario)\n",
    "df['Precio_Unitario'] = df['Precio_Unitario'].round(2)"
   ]
  },
  {
   "cell_type": "code",
   "execution_count": 16,
   "id": "170113c6",
   "metadata": {},
   "outputs": [],
   "source": [
    "mediana_total_venta = df['Total_Venta'].median()\n",
    "df['Total_Venta'] = df['Total_Venta'].fillna(mediana_total_venta)\n",
    "df['Total_Venta'] = df['Total_Venta'].round(2)"
   ]
  },
  {
   "cell_type": "code",
   "execution_count": 17,
   "id": "8f33d6a7",
   "metadata": {},
   "outputs": [],
   "source": [
    "df['Producto'] = df['Producto'].fillna('No Disponible')"
   ]
  },
  {
   "cell_type": "code",
   "execution_count": 18,
   "id": "92bde1a5",
   "metadata": {},
   "outputs": [],
   "source": [
    "df['Metodo_Pago'] = df['Metodo_Pago'].fillna('Sin Especificar')"
   ]
  },
  {
   "cell_type": "code",
   "execution_count": 19,
   "id": "68f88c17",
   "metadata": {},
   "outputs": [],
   "source": [
    "df['Region'] = df['Region'].fillna('Sin Especificar')"
   ]
  },
  {
   "cell_type": "code",
   "execution_count": 20,
   "id": "aa6c8b59",
   "metadata": {},
   "outputs": [],
   "source": [
    "formato_1 = pd.to_datetime(df['Fecha'],  format=\"%Y-%m-%d\",errors='coerce')\n",
    "formato_2 = pd.to_datetime(df['Fecha'],  format=\"%d-%m-%Y\",errors='coerce')\n",
    "\n",
    "df['Fecha'] = formato_1.combine_first(formato_2)"
   ]
  },
  {
   "cell_type": "code",
   "execution_count": 22,
   "id": "fa555b18",
   "metadata": {},
   "outputs": [],
   "source": [
    "df['Nombre_Cliente'] = df['Nombre_Cliente'].str.title()\n",
    "df['Apellido_Cliente'] = df['Apellido_Cliente'].str.title() "
   ]
  },
  {
   "cell_type": "markdown",
   "id": "5e68dbff",
   "metadata": {},
   "source": [
    "### 4. Obtención de Estadísticas Descriptivas\n",
    "\n",
    "Después de la limpieza, deben hacer lo siguiente: \n",
    "\n",
    "- 4.1: calcular nuevamente las estadísticas descriptivas para observar el impacto del proceso de limpieza en los datos numéricos.\n",
    "- 4.2: Calcular estadísticas específicas por grupo (Agrupar dos columnas)."
   ]
  },
  {
   "cell_type": "code",
   "execution_count": 32,
   "id": "7cbcaa53",
   "metadata": {},
   "outputs": [
    {
     "data": {
      "text/html": [
       "<div>\n",
       "<style scoped>\n",
       "    .dataframe tbody tr th:only-of-type {\n",
       "        vertical-align: middle;\n",
       "    }\n",
       "\n",
       "    .dataframe tbody tr th {\n",
       "        vertical-align: top;\n",
       "    }\n",
       "\n",
       "    .dataframe thead th {\n",
       "        text-align: right;\n",
       "    }\n",
       "</style>\n",
       "<table border=\"1\" class=\"dataframe\">\n",
       "  <thead>\n",
       "    <tr style=\"text-align: right;\">\n",
       "      <th></th>\n",
       "      <th>ID_Venta</th>\n",
       "      <th>Nombre_Cliente</th>\n",
       "      <th>Apellido_Cliente</th>\n",
       "      <th>Fecha</th>\n",
       "      <th>Producto</th>\n",
       "      <th>Cantidad</th>\n",
       "      <th>Precio_Unitario</th>\n",
       "      <th>Total_Venta</th>\n",
       "      <th>Metodo_Pago</th>\n",
       "      <th>Region</th>\n",
       "    </tr>\n",
       "  </thead>\n",
       "  <tbody>\n",
       "    <tr>\n",
       "      <th>0</th>\n",
       "      <td>1</td>\n",
       "      <td>Ana</td>\n",
       "      <td>García</td>\n",
       "      <td>2024-05-01</td>\n",
       "      <td>Laptop</td>\n",
       "      <td>1</td>\n",
       "      <td>1200.50</td>\n",
       "      <td>1200.50</td>\n",
       "      <td>Tarjeta de Crédito</td>\n",
       "      <td>Norte</td>\n",
       "    </tr>\n",
       "    <tr>\n",
       "      <th>1</th>\n",
       "      <td>2</td>\n",
       "      <td>Carlos</td>\n",
       "      <td>López</td>\n",
       "      <td>2024-01-08</td>\n",
       "      <td>Mouse Inalámbrico</td>\n",
       "      <td>2</td>\n",
       "      <td>25.75</td>\n",
       "      <td>51.50</td>\n",
       "      <td>Efectivo</td>\n",
       "      <td>Sur</td>\n",
       "    </tr>\n",
       "    <tr>\n",
       "      <th>2</th>\n",
       "      <td>3</td>\n",
       "      <td>Sofía</td>\n",
       "      <td>Martínez</td>\n",
       "      <td>2024-01-12</td>\n",
       "      <td>Teclado Mecánico</td>\n",
       "      <td>1</td>\n",
       "      <td>75.99</td>\n",
       "      <td>75.99</td>\n",
       "      <td>Transferencia Bancaria</td>\n",
       "      <td>Este</td>\n",
       "    </tr>\n",
       "    <tr>\n",
       "      <th>3</th>\n",
       "      <td>4</td>\n",
       "      <td>Pedro</td>\n",
       "      <td>Rodríguez</td>\n",
       "      <td>2024-01-15</td>\n",
       "      <td>Monitor 24 pulgadas</td>\n",
       "      <td>1</td>\n",
       "      <td>90.99</td>\n",
       "      <td>97.25</td>\n",
       "      <td>Tarjeta de Débito</td>\n",
       "      <td>Oeste</td>\n",
       "    </tr>\n",
       "    <tr>\n",
       "      <th>4</th>\n",
       "      <td>5</td>\n",
       "      <td>Laura</td>\n",
       "      <td>Sánchez</td>\n",
       "      <td>2024-01-18</td>\n",
       "      <td>Auriculares Bluetooth</td>\n",
       "      <td>1</td>\n",
       "      <td>99.95</td>\n",
       "      <td>99.95</td>\n",
       "      <td>Tarjeta de Crédito</td>\n",
       "      <td>Norte</td>\n",
       "    </tr>\n",
       "  </tbody>\n",
       "</table>\n",
       "</div>"
      ],
      "text/plain": [
       "   ID_Venta Nombre_Cliente Apellido_Cliente      Fecha               Producto  \\\n",
       "0         1            Ana           García 2024-05-01                 Laptop   \n",
       "1         2         Carlos            López 2024-01-08      Mouse Inalámbrico   \n",
       "2         3          Sofía         Martínez 2024-01-12       Teclado Mecánico   \n",
       "3         4          Pedro        Rodríguez 2024-01-15    Monitor 24 pulgadas   \n",
       "4         5          Laura          Sánchez 2024-01-18  Auriculares Bluetooth   \n",
       "\n",
       "   Cantidad  Precio_Unitario  Total_Venta             Metodo_Pago Region  \n",
       "0         1          1200.50      1200.50      Tarjeta de Crédito  Norte  \n",
       "1         2            25.75        51.50                Efectivo    Sur  \n",
       "2         1            75.99        75.99  Transferencia Bancaria   Este  \n",
       "3         1            90.99        97.25       Tarjeta de Débito  Oeste  \n",
       "4         1            99.95        99.95      Tarjeta de Crédito  Norte  "
      ]
     },
     "execution_count": 32,
     "metadata": {},
     "output_type": "execute_result"
    }
   ],
   "source": [
    "df.head()"
   ]
  },
  {
   "cell_type": "code",
   "execution_count": 27,
   "id": "4cfeba50",
   "metadata": {},
   "outputs": [
    {
     "data": {
      "text/html": [
       "<div>\n",
       "<style scoped>\n",
       "    .dataframe tbody tr th:only-of-type {\n",
       "        vertical-align: middle;\n",
       "    }\n",
       "\n",
       "    .dataframe tbody tr th {\n",
       "        vertical-align: top;\n",
       "    }\n",
       "\n",
       "    .dataframe thead th {\n",
       "        text-align: right;\n",
       "    }\n",
       "</style>\n",
       "<table border=\"1\" class=\"dataframe\">\n",
       "  <thead>\n",
       "    <tr style=\"text-align: right;\">\n",
       "      <th></th>\n",
       "      <th>ID_Venta</th>\n",
       "      <th>Fecha</th>\n",
       "      <th>Cantidad</th>\n",
       "      <th>Precio_Unitario</th>\n",
       "      <th>Total_Venta</th>\n",
       "    </tr>\n",
       "  </thead>\n",
       "  <tbody>\n",
       "    <tr>\n",
       "      <th>count</th>\n",
       "      <td>105.000000</td>\n",
       "      <td>105</td>\n",
       "      <td>105.000000</td>\n",
       "      <td>105.000000</td>\n",
       "      <td>105.000000</td>\n",
       "    </tr>\n",
       "    <tr>\n",
       "      <th>mean</th>\n",
       "      <td>53.000000</td>\n",
       "      <td>2024-06-21 13:42:51.428571392</td>\n",
       "      <td>1.190476</td>\n",
       "      <td>222.084952</td>\n",
       "      <td>232.019143</td>\n",
       "    </tr>\n",
       "    <tr>\n",
       "      <th>min</th>\n",
       "      <td>1.000000</td>\n",
       "      <td>2024-01-08 00:00:00</td>\n",
       "      <td>1.000000</td>\n",
       "      <td>2.000000</td>\n",
       "      <td>0.000000</td>\n",
       "    </tr>\n",
       "    <tr>\n",
       "      <th>25%</th>\n",
       "      <td>27.000000</td>\n",
       "      <td>2024-04-09 00:00:00</td>\n",
       "      <td>1.000000</td>\n",
       "      <td>55.000000</td>\n",
       "      <td>62.750000</td>\n",
       "    </tr>\n",
       "    <tr>\n",
       "      <th>50%</th>\n",
       "      <td>53.000000</td>\n",
       "      <td>2024-07-05 00:00:00</td>\n",
       "      <td>1.000000</td>\n",
       "      <td>90.990000</td>\n",
       "      <td>97.250000</td>\n",
       "    </tr>\n",
       "    <tr>\n",
       "      <th>75%</th>\n",
       "      <td>79.000000</td>\n",
       "      <td>2024-09-06 00:00:00</td>\n",
       "      <td>1.000000</td>\n",
       "      <td>165.000000</td>\n",
       "      <td>185.200000</td>\n",
       "    </tr>\n",
       "    <tr>\n",
       "      <th>max</th>\n",
       "      <td>105.000000</td>\n",
       "      <td>2024-10-22 00:00:00</td>\n",
       "      <td>4.000000</td>\n",
       "      <td>1800.990000</td>\n",
       "      <td>1800.990000</td>\n",
       "    </tr>\n",
       "    <tr>\n",
       "      <th>std</th>\n",
       "      <td>30.454885</td>\n",
       "      <td>NaN</td>\n",
       "      <td>0.538788</td>\n",
       "      <td>370.809510</td>\n",
       "      <td>357.618804</td>\n",
       "    </tr>\n",
       "  </tbody>\n",
       "</table>\n",
       "</div>"
      ],
      "text/plain": [
       "         ID_Venta                          Fecha    Cantidad  Precio_Unitario  \\\n",
       "count  105.000000                            105  105.000000       105.000000   \n",
       "mean    53.000000  2024-06-21 13:42:51.428571392    1.190476       222.084952   \n",
       "min      1.000000            2024-01-08 00:00:00    1.000000         2.000000   \n",
       "25%     27.000000            2024-04-09 00:00:00    1.000000        55.000000   \n",
       "50%     53.000000            2024-07-05 00:00:00    1.000000        90.990000   \n",
       "75%     79.000000            2024-09-06 00:00:00    1.000000       165.000000   \n",
       "max    105.000000            2024-10-22 00:00:00    4.000000      1800.990000   \n",
       "std     30.454885                            NaN    0.538788       370.809510   \n",
       "\n",
       "       Total_Venta  \n",
       "count   105.000000  \n",
       "mean    232.019143  \n",
       "min       0.000000  \n",
       "25%      62.750000  \n",
       "50%      97.250000  \n",
       "75%     185.200000  \n",
       "max    1800.990000  \n",
       "std     357.618804  "
      ]
     },
     "execution_count": 27,
     "metadata": {},
     "output_type": "execute_result"
    }
   ],
   "source": [
    "df.describe()"
   ]
  },
  {
   "cell_type": "code",
   "execution_count": 26,
   "id": "d4a03cbc",
   "metadata": {},
   "outputs": [
    {
     "data": {
      "text/plain": [
       "ID_Venta            0\n",
       "Nombre_Cliente      0\n",
       "Apellido_Cliente    0\n",
       "Fecha               0\n",
       "Producto            0\n",
       "Cantidad            0\n",
       "Precio_Unitario     0\n",
       "Total_Venta         0\n",
       "Metodo_Pago         0\n",
       "Region              0\n",
       "dtype: int64"
      ]
     },
     "execution_count": 26,
     "metadata": {},
     "output_type": "execute_result"
    }
   ],
   "source": [
    "df.isnull().sum()"
   ]
  },
  {
   "cell_type": "code",
   "execution_count": null,
   "id": "52541aa8",
   "metadata": {},
   "outputs": [
    {
     "data": {
      "text/html": [
       "<div>\n",
       "<style scoped>\n",
       "    .dataframe tbody tr th:only-of-type {\n",
       "        vertical-align: middle;\n",
       "    }\n",
       "\n",
       "    .dataframe tbody tr th {\n",
       "        vertical-align: top;\n",
       "    }\n",
       "\n",
       "    .dataframe thead th {\n",
       "        text-align: right;\n",
       "    }\n",
       "</style>\n",
       "<table border=\"1\" class=\"dataframe\">\n",
       "  <thead>\n",
       "    <tr style=\"text-align: right;\">\n",
       "      <th></th>\n",
       "      <th>Producto</th>\n",
       "      <th>Metodo_Pago</th>\n",
       "    </tr>\n",
       "  </thead>\n",
       "  <tbody>\n",
       "    <tr>\n",
       "      <th>0</th>\n",
       "      <td>Laptop</td>\n",
       "      <td>Tarjeta de Crédito</td>\n",
       "    </tr>\n",
       "    <tr>\n",
       "      <th>1</th>\n",
       "      <td>Mouse Inalámbrico</td>\n",
       "      <td>Efectivo</td>\n",
       "    </tr>\n",
       "    <tr>\n",
       "      <th>2</th>\n",
       "      <td>Teclado Mecánico</td>\n",
       "      <td>Transferencia Bancaria</td>\n",
       "    </tr>\n",
       "    <tr>\n",
       "      <th>3</th>\n",
       "      <td>Monitor 24 pulgadas</td>\n",
       "      <td>Tarjeta de Débito</td>\n",
       "    </tr>\n",
       "    <tr>\n",
       "      <th>4</th>\n",
       "      <td>Auriculares Bluetooth</td>\n",
       "      <td>Tarjeta de Crédito</td>\n",
       "    </tr>\n",
       "    <tr>\n",
       "      <th>...</th>\n",
       "      <td>...</td>\n",
       "      <td>...</td>\n",
       "    </tr>\n",
       "    <tr>\n",
       "      <th>100</th>\n",
       "      <td>Pen Drive 64GB</td>\n",
       "      <td>Tarjeta de Débito</td>\n",
       "    </tr>\n",
       "    <tr>\n",
       "      <th>101</th>\n",
       "      <td>Laptop Ligera</td>\n",
       "      <td>Tarjeta de Crédito</td>\n",
       "    </tr>\n",
       "    <tr>\n",
       "      <th>102</th>\n",
       "      <td>No Disponible</td>\n",
       "      <td>Efectivo</td>\n",
       "    </tr>\n",
       "    <tr>\n",
       "      <th>103</th>\n",
       "      <td>Teclado Bluetooth</td>\n",
       "      <td>Transferencia Bancaria</td>\n",
       "    </tr>\n",
       "    <tr>\n",
       "      <th>104</th>\n",
       "      <td>Monitor para Oficina</td>\n",
       "      <td>Tarjeta de Débito</td>\n",
       "    </tr>\n",
       "  </tbody>\n",
       "</table>\n",
       "<p>105 rows × 2 columns</p>\n",
       "</div>"
      ],
      "text/plain": [
       "                  Producto             Metodo_Pago\n",
       "0                   Laptop      Tarjeta de Crédito\n",
       "1        Mouse Inalámbrico                Efectivo\n",
       "2         Teclado Mecánico  Transferencia Bancaria\n",
       "3      Monitor 24 pulgadas       Tarjeta de Débito\n",
       "4    Auriculares Bluetooth      Tarjeta de Crédito\n",
       "..                     ...                     ...\n",
       "100         Pen Drive 64GB       Tarjeta de Débito\n",
       "101          Laptop Ligera      Tarjeta de Crédito\n",
       "102          No Disponible                Efectivo\n",
       "103      Teclado Bluetooth  Transferencia Bancaria\n",
       "104   Monitor para Oficina       Tarjeta de Débito\n",
       "\n",
       "[105 rows x 2 columns]"
      ]
     },
     "execution_count": 42,
     "metadata": {},
     "output_type": "execute_result"
    }
   ],
   "source": [
    "total_ventas_info = df.groupby('Fecha')[['Producto', 'Metodo_Pago']]\n",
    "total_ventas_info.head()"
   ]
  },
  {
   "cell_type": "markdown",
   "id": "af66b37b",
   "metadata": {},
   "source": [
    "### 5. Visualización de los Datos con Matplotlib\n",
    "\n",
    "En esta sección, deben utilizar la librería Matplotlib para crear **UNA** visualización que permitan comprender mejor los datos de ventas.El grafico es a elección, puede crear **UNO** de los siguientes: histogramas, diagramas de dispersión, gráficos de barras y graficos de torta."
   ]
  },
  {
   "cell_type": "code",
   "execution_count": null,
   "id": "f598f169",
   "metadata": {},
   "outputs": [],
   "source": []
  },
  {
   "cell_type": "markdown",
   "id": "8fff19af",
   "metadata": {},
   "source": [
    "### 6. Exportación a Archivo SQLite\n",
    "\n",
    "Finalmente, deben utilizar la funcionalidad de Pandas para guardar el DataFrame procesado en una base de datos SQLite. Deben hacer una conexión y hacer una consulta para ver si los datos fueron cargados correctamente."
   ]
  },
  {
   "cell_type": "code",
   "execution_count": 49,
   "id": "71d32e51",
   "metadata": {},
   "outputs": [],
   "source": [
    "conn = sqlite3.connect('ventas.db')\n",
    "\n",
    "sql_db = df.to_sql('ventas.db', conn, if_exists='replace', index=False)\n",
    "\n",
    "conn.close()"
   ]
  }
 ],
 "metadata": {
  "kernelspec": {
   "display_name": "env",
   "language": "python",
   "name": "python3"
  },
  "language_info": {
   "codemirror_mode": {
    "name": "ipython",
    "version": 3
   },
   "file_extension": ".py",
   "mimetype": "text/x-python",
   "name": "python",
   "nbconvert_exporter": "python",
   "pygments_lexer": "ipython3",
   "version": "3.13.2"
  }
 },
 "nbformat": 4,
 "nbformat_minor": 5
}
